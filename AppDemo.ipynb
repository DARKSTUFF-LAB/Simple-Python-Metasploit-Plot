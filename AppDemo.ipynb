{
 "cells": [
  {
   "cell_type": "code",
   "execution_count": 1,
   "id": "2fcc2fd5",
   "metadata": {
    "scrolled": true
   },
   "outputs": [],
   "source": [
    "from ipywidgets.widgets import Label, FloatProgress, FloatSlider, Button\n",
    "from ipywidgets.widgets import Layout, HBox, VBox\n",
    "import numpy as np\n",
    "import bqplot as bq\n",
    "import time\n",
    "import threading"
   ]
  },
  {
   "cell_type": "code",
   "execution_count": 2,
   "id": "26a34f03",
   "metadata": {},
   "outputs": [],
   "source": [
    "# flag to control loop\n",
    "flag = True\n",
    "\n",
    "# data to plot\n",
    "x = np.linspace(0, 2*np.pi, 500)\n",
    "dx = x[1] - x[0]\n"
   ]
  },
  {
   "cell_type": "code",
   "execution_count": 3,
   "id": "d160ce7c",
   "metadata": {},
   "outputs": [],
   "source": [
    "y= 1 + np.sin(x)\n",
    "# Starting the GUI elements\n",
    "# stop button to stop the application\n",
    "b_stop = Button(\n",
    "    description='stop',\n",
    "    icon='stop',\n",
    "    button_style='warning',\n",
    "#     layer define the width \n",
    "    layout=Layout(width='100px')\n",
    ")\n",
    "\n",
    "def stop_click(b):\n",
    "    global flag\n",
    "    flag = False\n",
    "    \n",
    "b_stop.on_click(stop_click)\n",
    "\n",
    "# create progress bar and label to display the current value of sin func\n",
    "w1 = FloatProgress(\n",
    "    value=y[-1],\n",
    "    min=0,\n",
    "    max=2,\n",
    "    description='PV:',\n",
    "    style={'description_width': 'initial'},\n",
    "    layout=Layout(width='365px')\n",
    ")\n",
    "w2 = Label(\n",
    "    value=str(np.round(y[-1],2)),\n",
    "    layout=Layout(margin='0 10px 0 31px')\n",
    ")\n",
    "\n",
    "w12 = HBox(\n",
    "    children=(w1, w2),\n",
    "    layout=Layout(margin='0 0 0 43px')\n",
    ")\n",
    "\n",
    "# slider\n",
    "wA = FloatSlider(\n",
    "    value=0,\n",
    "    min=0,\n",
    "    max=0.5,\n",
    "    step=0.01,\n",
    "    description='Noise',\n",
    "    layout=Layout(width='490px', margin='0 0 5px 0')\n",
    ")"
   ]
  },
  {
   "cell_type": "code",
   "execution_count": 4,
   "id": "772360de",
   "metadata": {},
   "outputs": [],
   "source": [
    "# create plot element\n",
    "\n",
    "# scales\n",
    "x_sc = bq.LinearScale()\n",
    "y_sc = bq.LinearScale()\n",
    "\n",
    "# create horizontal axis\n",
    "x_ax = bq.Axis(\n",
    "    label='x(t)',\n",
    "    scale=x_sc\n",
    ")\n",
    "y_ax = bq.Axis(\n",
    "    label='y(t)',\n",
    "    scale=y_sc,\n",
    "    orientation='vertical'\n",
    ")\n",
    "\n",
    "# lines\n",
    "# we only have 1 line plotted\n",
    "Line = bq.Lines(\n",
    "    x=x,\n",
    "    y=y,\n",
    "    scales={'x':x_sc, 'y':y_sc}\n",
    ")\n",
    "\n",
    "# figure\n",
    "# To finialize we join everything in a figure\n",
    "fig = bq.Figure(\n",
    "    layout=Layout(width='500px', height='300px'),\n",
    "    axes=[x_ax,y_ax],\n",
    "    marks=[Line],\n",
    "    fig_margin=dict(top=10, bottom=40, left=50, right=10)\n",
    ")"
   ]
  },
  {
   "cell_type": "code",
   "execution_count": 5,
   "id": "123a0c4c",
   "metadata": {},
   "outputs": [],
   "source": [
    "# Join everthing\n",
    "box = VBox(\n",
    "    children=(fig, w12, wA),\n",
    "    layout=Layout(border='solid 2px gray', width='510px')\n",
    ")\n",
    "app = VBox(\n",
    "    children=(b_stop, box)\n",
    ")\n"
   ]
  },
  {
   "cell_type": "code",
   "execution_count": 6,
   "id": "d1565ed2",
   "metadata": {},
   "outputs": [],
   "source": [
    "# create the func that updates the realtime plot\n",
    "# loop function\n",
    "def work():\n",
    "#     bring the obj from the global scope the local scope using the global keyword\n",
    "    global x\n",
    "    global y\n",
    "    \n",
    "    while flag:\n",
    "        \n",
    "#         get latest value of slider\n",
    "        A = wA.value\n",
    "    \n",
    "#         delete old values from x and y\n",
    "        x = np.delete(x, 0)\n",
    "        y = np.delete(y, 0)\n",
    "        \n",
    "#         add new values to x and y\n",
    "        x = np.append(x, x[-1]+dx)\n",
    "#         noise calculated based on the values from the slider\n",
    "        noise = A*np.random.rand()\n",
    "        y = np.append(y, 1 + np.sin(x[-1]) + noise)\n",
    "        \n",
    "#         update progressbar and label\n",
    "        w1.value = y[-1]\n",
    "        w2.value = str(np.round(y[-1],2))\n",
    "        \n",
    "#         update plot\n",
    "        Line.x = x\n",
    "        Line.y = y\n",
    "        \n",
    "#        cntrl cycle speed\n",
    "        time.sleep(0.05)"
   ]
  },
  {
   "cell_type": "code",
   "execution_count": 7,
   "id": "78b5ad8c",
   "metadata": {},
   "outputs": [
    {
     "data": {
      "application/vnd.jupyter.widget-view+json": {
       "model_id": "adba1e087783494c8cbd703a7b5aa325",
       "version_major": 2,
       "version_minor": 0
      },
      "text/plain": [
       "VBox(children=(Button(button_style='warning', description='stop', icon='stop', layout=Layout(width='100px'), s…"
      ]
     },
     "metadata": {},
     "output_type": "display_data"
    }
   ],
   "source": [
    "# set the flag to True\n",
    "flag = True\n",
    "\n",
    "# create the thread\n",
    "thread = threading.Thread(target=work)\n",
    "\n",
    "# display the app\n",
    "display(app)\n",
    "\n",
    "# start thread\n",
    "thread.start()"
   ]
  },
  {
   "cell_type": "code",
   "execution_count": null,
   "id": "b672f23a",
   "metadata": {},
   "outputs": [],
   "source": []
  },
  {
   "cell_type": "code",
   "execution_count": null,
   "id": "f77bcc80",
   "metadata": {},
   "outputs": [],
   "source": []
  }
 ],
 "metadata": {
  "kernelspec": {
   "display_name": "Python 3 (ipykernel)",
   "language": "python",
   "name": "python3"
  },
  "language_info": {
   "codemirror_mode": {
    "name": "ipython",
    "version": 3
   },
   "file_extension": ".py",
   "mimetype": "text/x-python",
   "name": "python",
   "nbconvert_exporter": "python",
   "pygments_lexer": "ipython3",
   "version": "3.9.12"
  },
  "vscode": {
   "interpreter": {
    "hash": "62e53a951ed7ae82159050f0abfe885ca4578fe9255d10abc1849ede73492467"
   }
  }
 },
 "nbformat": 4,
 "nbformat_minor": 5
}
